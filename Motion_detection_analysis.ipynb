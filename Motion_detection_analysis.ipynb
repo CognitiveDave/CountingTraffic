{
 "cells": [
  {
   "cell_type": "code",
   "execution_count": 120,
   "metadata": {},
   "outputs": [],
   "source": [
    "import pickle\n",
    "import pandas as pd\n",
    "import matplotlib\n",
    "import matplotlib.pyplot as plt\n",
    "pathd = \"/Users/davidmoore/Downloads/e2eSensorNetwork-master/motion/\"\n",
    "\n",
    "with open(pathd+\"anal\", \"rb\") as f:\n",
    "    dump = pickle.load(f)\n",
    "    \n",
    "    \n",
    "df = pd.DataFrame.from_records(dump)    "
   ]
  },
  {
   "cell_type": "code",
   "execution_count": 121,
   "metadata": {},
   "outputs": [
    {
     "data": {
      "text/plain": [
       "(array([  1,   2,   3,   4,   5, 386,   6]), array(['motion2'], dtype=object))"
      ]
     },
     "execution_count": 121,
     "metadata": {},
     "output_type": "execute_result"
    }
   ],
   "source": [
    "df['DurMins'].unique(),  df['Camera'].unique()"
   ]
  },
  {
   "cell_type": "code",
   "execution_count": 122,
   "metadata": {},
   "outputs": [
    {
     "name": "stdout",
     "output_type": "stream",
     "text": [
      "<class 'pandas.core.frame.DataFrame'>\n",
      "RangeIndex: 442 entries, 0 to 441\n",
      "Data columns (total 5 columns):\n",
      " #   Column      Non-Null Count  Dtype         \n",
      "---  ------      --------------  -----         \n",
      " 0   Camera      442 non-null    object        \n",
      " 1   StartEvent  442 non-null    datetime64[ns]\n",
      " 2   EndEvent    442 non-null    datetime64[ns]\n",
      " 3   FileName    442 non-null    object        \n",
      " 4   DurMins     442 non-null    int64         \n",
      "dtypes: datetime64[ns](2), int64(1), object(2)\n",
      "memory usage: 17.4+ KB\n"
     ]
    }
   ],
   "source": [
    "df.info()"
   ]
  },
  {
   "cell_type": "code",
   "execution_count": 123,
   "metadata": {},
   "outputs": [],
   "source": [
    "#df['count'] = 1\n",
    "#df['hr'] = df['StartEvent'].apply(lambda x: x.hour)\n",
    "#df['day'] = df['StartEvent'].apply(lambda x: x.day)"
   ]
  },
  {
   "cell_type": "code",
   "execution_count": 124,
   "metadata": {},
   "outputs": [
    {
     "data": {
      "text/html": [
       "<div>\n",
       "<style scoped>\n",
       "    .dataframe tbody tr th:only-of-type {\n",
       "        vertical-align: middle;\n",
       "    }\n",
       "\n",
       "    .dataframe tbody tr th {\n",
       "        vertical-align: top;\n",
       "    }\n",
       "\n",
       "    .dataframe thead th {\n",
       "        text-align: right;\n",
       "    }\n",
       "</style>\n",
       "<table border=\"1\" class=\"dataframe\">\n",
       "  <thead>\n",
       "    <tr style=\"text-align: right;\">\n",
       "      <th></th>\n",
       "      <th>Camera</th>\n",
       "      <th>StartEvent</th>\n",
       "      <th>EndEvent</th>\n",
       "      <th>FileName</th>\n",
       "      <th>DurMins</th>\n",
       "    </tr>\n",
       "  </thead>\n",
       "  <tbody>\n",
       "    <tr>\n",
       "      <th>243</th>\n",
       "      <td>motion2</td>\n",
       "      <td>2020-12-08 23:19:34</td>\n",
       "      <td>2020-12-09 05:45:50</td>\n",
       "      <td>/home/pi/secSecure/Monitor2/01-20201208231934.mkv</td>\n",
       "      <td>386</td>\n",
       "    </tr>\n",
       "  </tbody>\n",
       "</table>\n",
       "</div>"
      ],
      "text/plain": [
       "      Camera          StartEvent            EndEvent  \\\n",
       "243  motion2 2020-12-08 23:19:34 2020-12-09 05:45:50   \n",
       "\n",
       "                                              FileName  DurMins  \n",
       "243  /home/pi/secSecure/Monitor2/01-20201208231934.mkv      386  "
      ]
     },
     "execution_count": 124,
     "metadata": {},
     "output_type": "execute_result"
    }
   ],
   "source": [
    "df[df['DurMins'] == 386]"
   ]
  },
  {
   "cell_type": "code",
   "execution_count": 125,
   "metadata": {},
   "outputs": [],
   "source": [
    "df = df[(df['StartEvent'] > '2020-12-08 23:59:59')]"
   ]
  },
  {
   "cell_type": "code",
   "execution_count": 126,
   "metadata": {},
   "outputs": [
    {
     "data": {
      "text/plain": [
       "(array([1, 4, 3, 2, 5, 6]), (198, 5))"
      ]
     },
     "execution_count": 126,
     "metadata": {},
     "output_type": "execute_result"
    }
   ],
   "source": [
    "df['DurMins'].unique(), df.shape"
   ]
  },
  {
   "cell_type": "code",
   "execution_count": 127,
   "metadata": {},
   "outputs": [
    {
     "name": "stdout",
     "output_type": "stream",
     "text": [
      "Check merge 228.0 253\n"
     ]
    }
   ],
   "source": [
    "idx = pd.date_range('2020-12-09 08:30:00', '2020-12-09 16:30:00', freq='S')\n",
    "new_df = pd.DataFrame(idx)\n",
    "new_df.columns = ['StartEvent']\n",
    "new_df = pd.merge(new_df,df, on=\"StartEvent\", how=\"left\" )\n",
    "print('Check merge ' + str(new_df['DurMins'].sum()) + ' '+ str(df['DurMins'].sum()))"
   ]
  },
  {
   "cell_type": "code",
   "execution_count": 128,
   "metadata": {},
   "outputs": [
    {
     "data": {
      "text/plain": [
       "(228.0, 253)"
      ]
     },
     "execution_count": 128,
     "metadata": {},
     "output_type": "execute_result"
    }
   ],
   "source": [
    "new_df['DurMins'].sum(), df['DurMins'].sum()"
   ]
  },
  {
   "cell_type": "code",
   "execution_count": 129,
   "metadata": {},
   "outputs": [],
   "source": [
    "new_df = new_df.set_index('StartEvent')\n",
    "new_df['DurMins'] = new_df['DurMins'].fillna(0)"
   ]
  },
  {
   "cell_type": "code",
   "execution_count": 130,
   "metadata": {},
   "outputs": [
    {
     "data": {
      "text/plain": [
       "Text(0, 0.5, 'Total Events per 10 min interval')"
      ]
     },
     "execution_count": 130,
     "metadata": {},
     "output_type": "execute_result"
    },
    {
     "data": {
      "image/png": "[encoded data removed]",
      "text/plain": [
       "<Figure size 432x288 with 1 Axes>"
      ]
     },
     "metadata": {
      "needs_background": "light"
     },
     "output_type": "display_data"
    }
   ],
   "source": [
    "ax = new_df.resample('10T').sum().plot(title='Movement outside House on the Road')\n",
    "ax.set_xlabel(\"Time (08:30 - 16:30 GMT Dec 9)\")\n",
    "ax.set_ylabel(\"Total Events per 10 min interval\")"
   ]
  },
  {
   "cell_type": "code",
   "execution_count": null,
   "metadata": {},
   "outputs": [],
   "source": []
  },
  {
   "cell_type": "code",
   "execution_count": null,
   "metadata": {},
   "outputs": [],
   "source": []
  }
 ],
 "metadata": {
  "kernelspec": {
   "display_name": "Python 3",
   "language": "python",
   "name": "python3"
  },
  "language_info": {
   "codemirror_mode": {
    "name": "ipython",
    "version": 3
   },
   "file_extension": ".py",
   "mimetype": "text/x-python",
   "name": "python",
   "nbconvert_exporter": "python",
   "pygments_lexer": "ipython3",
   "version": "3.8.3"
  }
 },
 "nbformat": 4,
 "nbformat_minor": 4
}
