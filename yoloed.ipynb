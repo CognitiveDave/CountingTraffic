{
 "cells": [
  {
   "cell_type": "markdown",
   "metadata": {},
   "source": [
    "### A little script to make a neat report from my Object Detection trials"
   ]
  },
  {
   "cell_type": "code",
   "execution_count": 1,
   "metadata": {},
   "outputs": [],
   "source": [
    "import pickle #Needed to deserialize and load the object detection results from Disk\n",
    "import pandas as pd #Needed to build the excel report"
   ]
  },
  {
   "cell_type": "code",
   "execution_count": 2,
   "metadata": {},
   "outputs": [],
   "source": [
    "#We start with loading the data from disk and loading it to a Python object\n",
    "pathd = \"/Users/davidmoore/Downloads/e2eSensorNetwork-master/\"\n",
    "with open(pathd+\"result.picke\", \"rb\") as f:\n",
    "    dump = pickle.load(f)\n",
    "    \n",
    "#dump represents a list of dictionaries\n",
    "#[{'image': '/home/pi/Documents/yolo-object-detection/images/2020-12-22/11-17-55.jpg',\n",
    "#  'result': ['car: 0.7074'],\n",
    "#  'timing': '[INFO] YOLO took 10.105930 seconds'}]\n",
    "\n",
    "#I would like this type of data in an Excel report please!"
   ]
  },
  {
   "cell_type": "code",
   "execution_count": 3,
   "metadata": {},
   "outputs": [],
   "source": [
    "#we know that the dictionary has at least four pieces of data\n",
    "#a) an image path\n",
    "#b) a result with 'object' and 'confidence level'\n",
    "#c) the time it took for the inference engine to deliver the detection\n",
    "#I will split b) into Obj1 and Confobj1\n",
    "#But also note that Yolo could detect multiple objects in a single photo\n",
    "\n",
    "#lets start with what we know - these are the fields for the excel sheet right now\n",
    "colNames=['Obj1','ConfObj1','InferTime','Image']\n",
    "\n",
    "#but we need a function that tells us the maximum number of objects found in a given photo\n",
    "#aka how many columns do we need in excel.  It is going to be at least four but could be many\n",
    "\n",
    "def findSize(): #define a function to answer the how many question\n",
    "    resultSize = 0 #start with zero objects\n",
    "    for d in dump: #iterate over the list of dictionaries\n",
    "        if len(d['result']) > resultSize: #if this dictionary has more objects than our running count\n",
    "            resultSize = len(d['result']) #update our running count to that new maximum objects per photo\n",
    "            \n",
    "    return resultSize  #go ahead and give us the result as resultSize\n",
    "\n",
    "\n",
    "#let us initialize some variables\n",
    "resultSize = findSize() #we need to know the maximum number of objects per photo.  Min = 0\n",
    "resArray = {} #resArray is the record which we set to blank\n",
    "resList = [] #resList is the set of records we will create ( list )\n",
    "\n",
    "\n",
    "#once we know the maximum number of columns needed - let's make decent english names\n",
    "for n in range(2,resultSize+1):\n",
    "    colNames.append('Obj'+str(n))\n",
    "    colNames.append('ConfObj'+str(n))\n",
    "  \n",
    "\n",
    "#each object will be labelled Objx with the associated confidence labelled ConfObjx\n",
    "\n",
    "\n",
    "#we need our columns in an order that makes sense to the Excel user\n",
    "#so we need a sort key\n",
    "\n",
    "def order(listing):\n",
    "    if listing==\"Image\":\n",
    "        return -2\n",
    "    if listing==\"InferTime\":\n",
    "        return -1\n",
    "    else:\n",
    "        return int(listing[len(listing)-1])\n",
    "\n",
    "#order returns a signed integer from -2, -1, 1 ..  to resultSize\n",
    "#we use this later to sort the column names for our Excel user\n",
    "\n",
    "\n",
    "#next we need to iterate over the list of dictionaries and process them out\n",
    "#so we will flatten the dictionaries into a 2d matrix and clean up\n",
    "for d in dump:\n",
    "    resArray = {} #empty record\n",
    "    cnt=0\n",
    "    for e in d['result']: #d['result'] contains an object label and confidence level\n",
    "        cnt+=1\n",
    "        items = e.split(':') #split by key value\n",
    "        resArray[cnt] = items[0].strip().replace(' ','') #key is assigned \n",
    "        resArray[str(cnt)+'-conf'] = float(items[1]) #value is assigned\n",
    "    timing = d['timing'].split(' ')[3] #let us retrieve the time from the string   \n",
    "    resArray['timing'] = float(timing.strip()) #convert the time taken to a float   \n",
    "    resArray['image'] = d['image']  #basic copy  \n",
    "     \n",
    "    resList.append(resArray) #add the record to the matrix   \n",
    "      \n",
    "        "
   ]
  },
  {
   "cell_type": "code",
   "execution_count": 4,
   "metadata": {},
   "outputs": [],
   "source": [
    "df = pd.DataFrame(resList) #for convenience let us use Pandas with our 2D matrix"
   ]
  },
  {
   "cell_type": "code",
   "execution_count": 5,
   "metadata": {},
   "outputs": [],
   "source": [
    "df.columns = colNames #over-ride the keys with more meaningful English Names   \n",
    "    \n",
    "colNames = sorted(colNames, reverse=False,key=order) #shuffle the columns in a more meaningful order  \n",
    "\n",
    "df = df[colNames] #now shuffle the matrix in the desired order"
   ]
  },
  {
   "cell_type": "code",
   "execution_count": 6,
   "metadata": {},
   "outputs": [
    {
     "name": "stdout",
     "output_type": "stream",
     "text": [
      "<class 'pandas.core.frame.DataFrame'>\n",
      "RangeIndex: 192 entries, 0 to 191\n",
      "Data columns (total 8 columns):\n",
      " #   Column     Non-Null Count  Dtype  \n",
      "---  ------     --------------  -----  \n",
      " 0   Image      192 non-null    object \n",
      " 1   InferTime  192 non-null    float64\n",
      " 2   Obj1       90 non-null     object \n",
      " 3   ConfObj1   90 non-null     float64\n",
      " 4   Obj2       6 non-null      object \n",
      " 5   ConfObj2   6 non-null      float64\n",
      " 6   Obj3       1 non-null      object \n",
      " 7   ConfObj3   1 non-null      float64\n",
      "dtypes: float64(4), object(4)\n",
      "memory usage: 12.1+ KB\n"
     ]
    }
   ],
   "source": [
    "df.info() #have a look at the dataframe"
   ]
  },
  {
   "cell_type": "code",
   "execution_count": 7,
   "metadata": {},
   "outputs": [],
   "source": [
    "df.to_csv('data.csv') #finally drop the data out in CSV format.  Well I don't really LOVE Excel"
   ]
  },
  {
   "cell_type": "code",
   "execution_count": null,
   "metadata": {},
   "outputs": [],
   "source": []
  }
 ],
 "metadata": {
  "kernelspec": {
   "display_name": "Python 3",
   "language": "python",
   "name": "python3"
  },
  "language_info": {
   "codemirror_mode": {
    "name": "ipython",
    "version": 3
   },
   "file_extension": ".py",
   "mimetype": "text/x-python",
   "name": "python",
   "nbconvert_exporter": "python",
   "pygments_lexer": "ipython3",
   "version": "3.8.3"
  }
 },
 "nbformat": 4,
 "nbformat_minor": 4
}
